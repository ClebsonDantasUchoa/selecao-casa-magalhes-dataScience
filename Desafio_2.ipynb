{
 "cells": [
  {
   "cell_type": "code",
   "execution_count": 1,
   "metadata": {},
   "outputs": [],
   "source": [
    "import pandas\n",
    "from sklearn.linear_model import LinearRegression\n",
    "from sklearn import metrics\n",
    "import numpy as np"
   ]
  },
  {
   "cell_type": "code",
   "execution_count": 2,
   "metadata": {},
   "outputs": [],
   "source": [
    "df_1 = pandas.read_csv('input/data_1__.csv')\n",
    "df_2 = pandas.read_csv('input/data_2__.csv')\n",
    "df_3 = pandas.read_csv('input/data_3__.csv')\n",
    "df_4 = pandas.read_csv('input/data_4__.csv')"
   ]
  },
  {
   "cell_type": "markdown",
   "metadata": {},
   "source": [
    "## Definição de funções úteis"
   ]
  },
  {
   "cell_type": "code",
   "execution_count": 3,
   "metadata": {},
   "outputs": [],
   "source": [
    "def convertDateToYearMonth(date):\n",
    "    date = date.split(\"-\")\n",
    "    date = date[0]+date[1]\n",
    "    return date"
   ]
  },
  {
   "cell_type": "code",
   "execution_count": 4,
   "metadata": {},
   "outputs": [],
   "source": [
    "def converDateToInt(date):\n",
    "    date = date.split(\"-\")\n",
    "    date = date[0]+date[1]+date[2]\n",
    "    return int(date)"
   ]
  },
  {
   "cell_type": "code",
   "execution_count": 5,
   "metadata": {},
   "outputs": [],
   "source": [
    "def preProcessor(df):\n",
    "    df_replaced = df\n",
    "    df_replaced['YearMonth'] = df_replaced['data'].apply(lambda data: convertDateToYearMonth(data))\n",
    "\n",
    "    last_yearMonth = df_replaced['YearMonth'].values[-1]\n",
    "\n",
    "    last_month_df = df_replaced.loc[df_replaced['YearMonth'] == last_yearMonth]\n",
    "    df_replaced = df_replaced[df_replaced.YearMonth != last_yearMonth]\n",
    "\n",
    "    last_month_df = last_month_df.drop(['index', 'YearMonth'], axis=1)\n",
    "    df_replaced = df_replaced.drop(['YearMonth', 'index'], axis=1)\n",
    "\n",
    "    df_replaced['data'] = df_replaced['data'].apply(lambda data: converDateToInt(data))\n",
    "    last_month_df['data'] = last_month_df['data'].apply(lambda date: converDateToInt(date))\n",
    "    return last_month_df, df_replaced"
   ]
  },
  {
   "cell_type": "code",
   "execution_count": 6,
   "metadata": {},
   "outputs": [],
   "source": [
    "def prediction(train_df, df_to_predict):\n",
    "    model = LinearRegression()\n",
    "    X_train = train_df.values[:, :-1]\n",
    "    y_train = train_df.values[:, -1]\n",
    "    X_test = df_to_predict.values[:, :-1]\n",
    "    y_test = df_to_predict.values[:, -1]\n",
    "    \n",
    "    model.fit(X_train, y_train)\n",
    "    y_pred = model.predict(X_test)\n",
    "\n",
    "    print('predição: ', y_pred)\n",
    "    print('valor original: ', y_test)\n",
    "    print('-----------------------')\n",
    "    print('MAE:', metrics.mean_absolute_error(y_test, y_pred))  \n",
    "    print('MSE:', metrics.mean_squared_error(y_test, y_pred))  \n",
    "    print('RMSE:', np.sqrt(metrics.mean_squared_error(y_test, y_pred)))"
   ]
  },
  {
   "cell_type": "markdown",
   "metadata": {},
   "source": [
    "## DF_1"
   ]
  },
  {
   "cell_type": "code",
   "execution_count": 7,
   "metadata": {},
   "outputs": [
    {
     "name": "stdout",
     "output_type": "stream",
     "text": [
      "predição:  [30950.52684691 30949.99818466 30949.46952241 30948.94086016\n",
      " 30948.4121979  30946.82621115 30946.2975489  30945.76888665\n",
      " 30945.24022439 30944.71156214 30943.12557539 30942.59691314\n",
      " 30942.06825089 30941.53958863 30941.01092638 30939.42493963\n",
      " 30938.89627738 30938.36761512 30937.83895287 30937.31029062\n",
      " 30935.72430387]\n",
      "valor original:  [ 15895.5    9273.    16079.25  29740.6   45392.7   15858.59  10426.85\n",
      "  49380.     1006.   117363.6   13757.     8507.8   11581.7   26245.9\n",
      "  78560.85  17529.25   7865.8   64380.3   17235.1   62124.4   17325.9 ]\n",
      "-----------------------\n",
      "MAE: 22732.216320073883\n",
      "MSE: 815250868.6189246\n",
      "RMSE: 28552.598281398572\n"
     ]
    }
   ],
   "source": [
    "result = preProcessor(df_1)\n",
    "predictDF = result[0]\n",
    "trainDF = result[1]\n",
    "prediction(trainDF, predictDF)"
   ]
  },
  {
   "cell_type": "markdown",
   "metadata": {},
   "source": [
    "## DF_2"
   ]
  },
  {
   "cell_type": "code",
   "execution_count": 8,
   "metadata": {},
   "outputs": [
    {
     "name": "stdout",
     "output_type": "stream",
     "text": [
      "predição:  [14992.15295129 14992.37374331 14992.59453534 14992.81532736\n",
      " 14993.03611938 14993.25691141 14993.47770343 14993.69849545\n",
      " 14993.91928748 14994.1400795  14994.36087153 14994.58166355\n",
      " 14994.80245557 14995.0232476  14995.24403962 14995.46483164\n",
      " 14995.68562367 14995.90641569 14996.12720772 14996.34799974\n",
      " 14996.56879176 14996.78958379 14997.01037581 14997.23116783\n",
      " 14997.45195986 14997.67275188 14997.89354391 14998.11433593\n",
      " 14998.33512795 14998.55591998 14998.776712  ]\n",
      "valor original:  [11574.3  11745.41 12396.01 12038.5  16057.87 22377.21 11441.12 11824.1\n",
      " 11556.2  12886.3  15108.1  27351.5  21690.79 19021.3  14308.51 11457.8\n",
      " 12105.7  12937.21 17693.2  21980.21 21986.7  11776.42 11584.4  11568.62\n",
      " 11768.9  14266.5  19315.5  12903.71 11071.9  11205.8  12025.8 ]\n",
      "-----------------------\n",
      "MAE: 3648.212327634017\n",
      "MSE: 18803797.792911496\n",
      "RMSE: 4336.334603430816\n"
     ]
    }
   ],
   "source": [
    "result = preProcessor(df_2)\n",
    "predictDF = result[0]\n",
    "trainDF = result[1]\n",
    "prediction(trainDF, predictDF)"
   ]
  },
  {
   "cell_type": "markdown",
   "metadata": {},
   "source": [
    "## DF_3"
   ]
  },
  {
   "cell_type": "code",
   "execution_count": 9,
   "metadata": {},
   "outputs": [
    {
     "name": "stdout",
     "output_type": "stream",
     "text": [
      "predição:  [11976.06293899 12000.84281218 12025.62268531 12050.40255851\n",
      " 12075.18243164 12099.96230483 12124.74217796 12149.52205116\n",
      " 12174.30192429 12199.08179748 12223.86167061 12248.64154381\n",
      " 12273.42141694 12298.20129013 12322.98116326 12347.76103646\n",
      " 12372.54090959 12397.32078278 12422.10065591 12446.88052911\n",
      " 12471.66040224 12496.44027543 12521.22014856 12546.00002176\n",
      " 12570.77989489 12595.55976808 12620.33964121 12645.11951441\n",
      " 12669.89938754 12694.67926073 12719.45913386]\n",
      "valor original:  [ 4516.65  4719.77  5325.13 10793.82 16439.73 16145.05 14954.49  3660.66\n",
      "  3445.37  5815.37 14164.03 12916.15 13871.97 10994.9   7181.68  3534.76\n",
      "  4463.52  8746.33 11200.49 15562.98 12947.56  3710.66  3932.56  5117.4\n",
      "  7973.97 11496.88 15060.21 13367.74  4178.29  2623.59  6190.43]\n",
      "-----------------------\n",
      "MAE: 4907.375769811062\n",
      "MSE: 33501620.641177986\n",
      "RMSE: 5788.058451776207\n"
     ]
    }
   ],
   "source": [
    "result = preProcessor(df_3)\n",
    "predictDF = result[0]\n",
    "trainDF = result[1]\n",
    "prediction(trainDF, predictDF)"
   ]
  },
  {
   "cell_type": "code",
   "execution_count": null,
   "metadata": {},
   "outputs": [],
   "source": []
  }
 ],
 "metadata": {
  "kernelspec": {
   "display_name": "Python 3",
   "language": "python",
   "name": "python3"
  },
  "language_info": {
   "codemirror_mode": {
    "name": "ipython",
    "version": 3
   },
   "file_extension": ".py",
   "mimetype": "text/x-python",
   "name": "python",
   "nbconvert_exporter": "python",
   "pygments_lexer": "ipython3",
   "version": "3.6.5"
  }
 },
 "nbformat": 4,
 "nbformat_minor": 2
}
