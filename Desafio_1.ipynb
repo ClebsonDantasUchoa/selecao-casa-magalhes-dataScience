{
 "cells": [
  {
   "cell_type": "markdown",
   "metadata": {},
   "source": [
    "## Importação de bibliotecas"
   ]
  },
  {
   "cell_type": "code",
   "execution_count": 1,
   "metadata": {},
   "outputs": [],
   "source": [
    "import pandas\n",
    "from sklearn.linear_model import LinearRegression\n",
    "from sklearn import metrics\n",
    "import numpy as np"
   ]
  },
  {
   "cell_type": "markdown",
   "metadata": {},
   "source": [
    "## Leitura de datasets"
   ]
  },
  {
   "cell_type": "code",
   "execution_count": 2,
   "metadata": {},
   "outputs": [],
   "source": [
    "df_1 = pandas.read_csv('input/data_1__.csv')\n",
    "df_2 = pandas.read_csv('input/data_2__.csv')\n",
    "df_3 = pandas.read_csv('input/data_3__.csv')\n",
    "df_4 = pandas.read_csv('input/data_4__.csv')"
   ]
  },
  {
   "cell_type": "markdown",
   "metadata": {},
   "source": [
    "## Definição de funções úteis"
   ]
  },
  {
   "cell_type": "code",
   "execution_count": 3,
   "metadata": {},
   "outputs": [],
   "source": [
    "def convertDateToYearMonth(date):\n",
    "    date = date.split(\"-\")\n",
    "    date = date[0]+date[1]\n",
    "    return date"
   ]
  },
  {
   "cell_type": "code",
   "execution_count": 4,
   "metadata": {},
   "outputs": [],
   "source": [
    "def preprocessorDataFrame(df):\n",
    "    df['YearMonth'] = df['data'].apply(lambda date: convertDateToYearMonth(date))\n",
    "    dfReplaced = df.groupby(['YearMonth'])['valor'].sum().reset_index()\n",
    "    dfReplaced['YearMonth'] = dfReplaced['YearMonth'].apply(lambda ym: int(ym))\n",
    "    return dfReplaced"
   ]
  },
  {
   "cell_type": "markdown",
   "metadata": {},
   "source": [
    "## Preprocessamento df_4"
   ]
  },
  {
   "cell_type": "code",
   "execution_count": 5,
   "metadata": {},
   "outputs": [
    {
     "name": "stdout",
     "output_type": "stream",
     "text": [
      "Product id\n",
      "pd_1    60\n",
      "dtype: int64\n"
     ]
    }
   ],
   "source": [
    "print(df_4.groupby('Product id').size())\n",
    "## Como nessa coluna só existe um tipo de Product id, isso não será relevante"
   ]
  },
  {
   "cell_type": "code",
   "execution_count": 6,
   "metadata": {},
   "outputs": [
    {
     "data": {
      "text/html": [
       "<div>\n",
       "<style scoped>\n",
       "    .dataframe tbody tr th:only-of-type {\n",
       "        vertical-align: middle;\n",
       "    }\n",
       "\n",
       "    .dataframe tbody tr th {\n",
       "        vertical-align: top;\n",
       "    }\n",
       "\n",
       "    .dataframe thead th {\n",
       "        text-align: right;\n",
       "    }\n",
       "</style>\n",
       "<table border=\"1\" class=\"dataframe\">\n",
       "  <thead>\n",
       "    <tr style=\"text-align: right;\">\n",
       "      <th></th>\n",
       "      <th>YearMonth</th>\n",
       "      <th>valor</th>\n",
       "    </tr>\n",
       "  </thead>\n",
       "  <tbody>\n",
       "    <tr>\n",
       "      <th>55</th>\n",
       "      <td>201708</td>\n",
       "      <td>27.3492</td>\n",
       "    </tr>\n",
       "    <tr>\n",
       "      <th>56</th>\n",
       "      <td>201709</td>\n",
       "      <td>25.2192</td>\n",
       "    </tr>\n",
       "    <tr>\n",
       "      <th>57</th>\n",
       "      <td>201710</td>\n",
       "      <td>23.9412</td>\n",
       "    </tr>\n",
       "    <tr>\n",
       "      <th>58</th>\n",
       "      <td>201711</td>\n",
       "      <td>28.2012</td>\n",
       "    </tr>\n",
       "    <tr>\n",
       "      <th>59</th>\n",
       "      <td>201712</td>\n",
       "      <td>22.0668</td>\n",
       "    </tr>\n",
       "  </tbody>\n",
       "</table>\n",
       "</div>"
      ],
      "text/plain": [
       "    YearMonth    valor\n",
       "55     201708  27.3492\n",
       "56     201709  25.2192\n",
       "57     201710  23.9412\n",
       "58     201711  28.2012\n",
       "59     201712  22.0668"
      ]
     },
     "execution_count": 6,
     "metadata": {},
     "output_type": "execute_result"
    }
   ],
   "source": [
    "df_4_replaced = df_4\n",
    "df_4_replaced = df_4_replaced.rename(columns= {\"Volume\": 'valor'})\n",
    "df_4_replaced = df_4_replaced.groupby(['YearMonth'])['valor'].sum().reset_index()\n",
    "df_4_replaced['YearMonth'] = df_4_replaced['YearMonth'].apply(lambda ym: int(ym))\n",
    "df_4_replaced.tail()"
   ]
  },
  {
   "cell_type": "markdown",
   "metadata": {},
   "source": [
    "## Prepocessamento df_3"
   ]
  },
  {
   "cell_type": "code",
   "execution_count": 7,
   "metadata": {},
   "outputs": [
    {
     "data": {
      "text/html": [
       "<div>\n",
       "<style scoped>\n",
       "    .dataframe tbody tr th:only-of-type {\n",
       "        vertical-align: middle;\n",
       "    }\n",
       "\n",
       "    .dataframe tbody tr th {\n",
       "        vertical-align: top;\n",
       "    }\n",
       "\n",
       "    .dataframe thead th {\n",
       "        text-align: right;\n",
       "    }\n",
       "</style>\n",
       "<table border=\"1\" class=\"dataframe\">\n",
       "  <thead>\n",
       "    <tr style=\"text-align: right;\">\n",
       "      <th></th>\n",
       "      <th>YearMonth</th>\n",
       "      <th>valor</th>\n",
       "    </tr>\n",
       "  </thead>\n",
       "  <tbody>\n",
       "    <tr>\n",
       "      <th>0</th>\n",
       "      <td>201808</td>\n",
       "      <td>83050.67</td>\n",
       "    </tr>\n",
       "    <tr>\n",
       "      <th>1</th>\n",
       "      <td>201809</td>\n",
       "      <td>296706.28</td>\n",
       "    </tr>\n",
       "    <tr>\n",
       "      <th>2</th>\n",
       "      <td>201810</td>\n",
       "      <td>275052.14</td>\n",
       "    </tr>\n",
       "  </tbody>\n",
       "</table>\n",
       "</div>"
      ],
      "text/plain": [
       "   YearMonth      valor\n",
       "0     201808   83050.67\n",
       "1     201809  296706.28\n",
       "2     201810  275052.14"
      ]
     },
     "execution_count": 7,
     "metadata": {},
     "output_type": "execute_result"
    }
   ],
   "source": [
    "df_3_replaced = preprocessorDataFrame(df_3)\n",
    "df_3_replaced.tail()"
   ]
  },
  {
   "cell_type": "markdown",
   "metadata": {},
   "source": [
    "## Prepocessamento df_2"
   ]
  },
  {
   "cell_type": "code",
   "execution_count": 8,
   "metadata": {},
   "outputs": [
    {
     "data": {
      "text/html": [
       "<div>\n",
       "<style scoped>\n",
       "    .dataframe tbody tr th:only-of-type {\n",
       "        vertical-align: middle;\n",
       "    }\n",
       "\n",
       "    .dataframe tbody tr th {\n",
       "        vertical-align: top;\n",
       "    }\n",
       "\n",
       "    .dataframe thead th {\n",
       "        text-align: right;\n",
       "    }\n",
       "</style>\n",
       "<table border=\"1\" class=\"dataframe\">\n",
       "  <thead>\n",
       "    <tr style=\"text-align: right;\">\n",
       "      <th></th>\n",
       "      <th>YearMonth</th>\n",
       "      <th>valor</th>\n",
       "    </tr>\n",
       "  </thead>\n",
       "  <tbody>\n",
       "    <tr>\n",
       "      <th>47</th>\n",
       "      <td>201806</td>\n",
       "      <td>379383.08</td>\n",
       "    </tr>\n",
       "    <tr>\n",
       "      <th>48</th>\n",
       "      <td>201807</td>\n",
       "      <td>482195.78</td>\n",
       "    </tr>\n",
       "    <tr>\n",
       "      <th>49</th>\n",
       "      <td>201808</td>\n",
       "      <td>434308.16</td>\n",
       "    </tr>\n",
       "    <tr>\n",
       "      <th>50</th>\n",
       "      <td>201809</td>\n",
       "      <td>438753.21</td>\n",
       "    </tr>\n",
       "    <tr>\n",
       "      <th>51</th>\n",
       "      <td>201810</td>\n",
       "      <td>457025.59</td>\n",
       "    </tr>\n",
       "  </tbody>\n",
       "</table>\n",
       "</div>"
      ],
      "text/plain": [
       "    YearMonth      valor\n",
       "47     201806  379383.08\n",
       "48     201807  482195.78\n",
       "49     201808  434308.16\n",
       "50     201809  438753.21\n",
       "51     201810  457025.59"
      ]
     },
     "execution_count": 8,
     "metadata": {},
     "output_type": "execute_result"
    }
   ],
   "source": [
    "df_2_replaced = preprocessorDataFrame(df_2)\n",
    "df_2_replaced.tail()"
   ]
  },
  {
   "cell_type": "markdown",
   "metadata": {},
   "source": [
    "## Prepocessamento df_1"
   ]
  },
  {
   "cell_type": "code",
   "execution_count": 9,
   "metadata": {},
   "outputs": [
    {
     "data": {
      "text/html": [
       "<div>\n",
       "<style scoped>\n",
       "    .dataframe tbody tr th:only-of-type {\n",
       "        vertical-align: middle;\n",
       "    }\n",
       "\n",
       "    .dataframe tbody tr th {\n",
       "        vertical-align: top;\n",
       "    }\n",
       "\n",
       "    .dataframe thead th {\n",
       "        text-align: right;\n",
       "    }\n",
       "</style>\n",
       "<table border=\"1\" class=\"dataframe\">\n",
       "  <thead>\n",
       "    <tr style=\"text-align: right;\">\n",
       "      <th></th>\n",
       "      <th>YearMonth</th>\n",
       "      <th>valor</th>\n",
       "    </tr>\n",
       "  </thead>\n",
       "  <tbody>\n",
       "    <tr>\n",
       "      <th>22</th>\n",
       "      <td>201806</td>\n",
       "      <td>759047.88</td>\n",
       "    </tr>\n",
       "    <tr>\n",
       "      <th>23</th>\n",
       "      <td>201807</td>\n",
       "      <td>711501.72</td>\n",
       "    </tr>\n",
       "    <tr>\n",
       "      <th>24</th>\n",
       "      <td>201808</td>\n",
       "      <td>700150.67</td>\n",
       "    </tr>\n",
       "    <tr>\n",
       "      <th>25</th>\n",
       "      <td>201809</td>\n",
       "      <td>747653.22</td>\n",
       "    </tr>\n",
       "    <tr>\n",
       "      <th>26</th>\n",
       "      <td>201810</td>\n",
       "      <td>635530.09</td>\n",
       "    </tr>\n",
       "  </tbody>\n",
       "</table>\n",
       "</div>"
      ],
      "text/plain": [
       "    YearMonth      valor\n",
       "22     201806  759047.88\n",
       "23     201807  711501.72\n",
       "24     201808  700150.67\n",
       "25     201809  747653.22\n",
       "26     201810  635530.09"
      ]
     },
     "execution_count": 9,
     "metadata": {},
     "output_type": "execute_result"
    }
   ],
   "source": [
    "df_1_replaced = preprocessorDataFrame(df_1)\n",
    "df_1_replaced.tail()"
   ]
  },
  {
   "cell_type": "markdown",
   "metadata": {},
   "source": [
    "## Predições"
   ]
  },
  {
   "cell_type": "code",
   "execution_count": 10,
   "metadata": {},
   "outputs": [],
   "source": [
    "def linearRegresionPredict(df):\n",
    "    model = LinearRegression()\n",
    "    last_valor = df['valor'].values[-1]\n",
    "    last_yearMonth = df['YearMonth'].values[-1]\n",
    "\n",
    "    df = df.drop(df.index[-1])\n",
    "\n",
    "    x_test = [[last_yearMonth]]\n",
    "    y_test = [[last_valor]]\n",
    "\n",
    "    print(\"X test: \", x_test, \"y test: \", y_test)\n",
    "\n",
    "    X_train = pandas.DataFrame(df['YearMonth'])\n",
    "    y_train = pandas.DataFrame(df['valor'])\n",
    "\n",
    "    model.fit(X_train,y_train)\n",
    "\n",
    "    y_pred = model.predict(x_test)\n",
    "    \n",
    "    print('predição: ', y_pred)\n",
    "    print('valor original: ', y_test)\n",
    "    print('MAE:', metrics.mean_absolute_error(y_test, y_pred))  \n",
    "    print('MSE:', metrics.mean_squared_error(y_test, y_pred))  \n",
    "    print('RMSE:', np.sqrt(metrics.mean_squared_error(y_test, y_pred)))"
   ]
  },
  {
   "cell_type": "markdown",
   "metadata": {},
   "source": [
    "### Predições"
   ]
  },
  {
   "cell_type": "markdown",
   "metadata": {},
   "source": [
    "#### DF_1"
   ]
  },
  {
   "cell_type": "code",
   "execution_count": 11,
   "metadata": {},
   "outputs": [
    {
     "name": "stdout",
     "output_type": "stream",
     "text": [
      "X test:  [[201810]] y test:  [[635530.0900000001]]\n",
      "predição:  [[716782.45822836]]\n",
      "valor original:  [[635530.0900000001]]\n",
      "MAE: 81252.3682283645\n",
      "MSE: 6601947342.717737\n",
      "RMSE: 81252.3682283645\n"
     ]
    }
   ],
   "source": [
    "linearRegresionPredict(df_1_replaced)"
   ]
  },
  {
   "cell_type": "markdown",
   "metadata": {},
   "source": [
    "#### DF_2"
   ]
  },
  {
   "cell_type": "code",
   "execution_count": 12,
   "metadata": {},
   "outputs": [
    {
     "name": "stdout",
     "output_type": "stream",
     "text": [
      "X test:  [[201810]] y test:  [[457025.5900000001]]\n",
      "predição:  [[461926.1480768]]\n",
      "valor original:  [[457025.5900000001]]\n",
      "MAE: 4900.558076802408\n",
      "MSE: 24015469.464113317\n",
      "RMSE: 4900.558076802408\n"
     ]
    }
   ],
   "source": [
    "linearRegresionPredict(df_2_replaced)"
   ]
  },
  {
   "cell_type": "markdown",
   "metadata": {},
   "source": [
    "#### DF_3"
   ]
  },
  {
   "cell_type": "code",
   "execution_count": 13,
   "metadata": {},
   "outputs": [
    {
     "name": "stdout",
     "output_type": "stream",
     "text": [
      "X test:  [[201810]] y test:  [[275052.13999999996]]\n",
      "predição:  [[510361.88999939]]\n",
      "valor original:  [[275052.13999999996]]\n",
      "MAE: 235309.7499993897\n",
      "MSE: 55370678444.775276\n",
      "RMSE: 235309.7499993897\n"
     ]
    }
   ],
   "source": [
    "linearRegresionPredict(df_3_replaced)"
   ]
  },
  {
   "cell_type": "markdown",
   "metadata": {},
   "source": [
    "#### DF_4"
   ]
  },
  {
   "cell_type": "code",
   "execution_count": 14,
   "metadata": {},
   "outputs": [
    {
     "name": "stdout",
     "output_type": "stream",
     "text": [
      "X test:  [[201712]] y test:  [[22.0668]]\n",
      "predição:  [[2503.97503045]]\n",
      "valor original:  [[22.0668]]\n",
      "MAE: 2481.9082304542976\n",
      "MSE: 6159868.464396783\n",
      "RMSE: 2481.9082304542976\n"
     ]
    }
   ],
   "source": [
    "linearRegresionPredict(df_4_replaced)"
   ]
  },
  {
   "cell_type": "markdown",
   "metadata": {},
   "source": [
    "### Recarregando dados"
   ]
  },
  {
   "cell_type": "code",
   "execution_count": 15,
   "metadata": {},
   "outputs": [],
   "source": [
    "# df_4_replaced = df_4\n",
    "# df_4_replaced = df_4_replaced.rename(columns= {\"Volume\": 'valor'})\n",
    "# df_4_replaced = df_4_replaced.groupby(['YearMonth'])['valor'].sum().reset_index()\n",
    "# df_4_replaced['YearMonth'] = df_4_replaced['YearMonth'].apply(lambda ym: int(ym))\n",
    "\n",
    "# df_3_replaced = preprocessorDataFrame(df_3)\n",
    "# df_2_replaced = preprocessorDataFrame(df_2)\n",
    "# df_1_replaced = preprocessorDataFrame(df_1)"
   ]
  },
  {
   "cell_type": "markdown",
   "metadata": {},
   "source": [
    "### Predições com xgb regressor"
   ]
  },
  {
   "cell_type": "code",
   "execution_count": 16,
   "metadata": {},
   "outputs": [],
   "source": [
    "# modelo_xgb = xgb.sklearn.XGBRegressor(random_state=1, max_depth=5, learning_rate=0.01, n_estimators=1000)\n",
    "# df_1_replaced['valor'] = df_1_replaced['valor'].apply(lambda ym: int(ym))\n",
    "# last_valor = df_1_replaced['valor'].values[-1]\n",
    "# last_yearMonth = df_1_replaced['YearMonth'].values[-1]\n",
    "\n",
    "# eval_set_valor = df_1_replaced['valor'].values[-1]\n",
    "# eval_set_yearMonth = df_1_replaced['YearMonth'].values[-1]\n",
    "\n",
    "# df_1_replaced = df_1_replaced.drop(df_1_replaced.index[-2])\n",
    "\n",
    "# X = df_1_replaced.values[:, :-1]\n",
    "# y = df_1_replaced.values[:, -1]\n",
    "\n",
    "# eval_set = [([eval_set_valor], [eval_set_yearMonth])]\n",
    "\n",
    "# modelo_xgb.fit(X, y, early_stopping_rounds=100, eval_set=eval_set, verbose=False)\n",
    "\n",
    "# # 635775\n",
    "# # modelo_xgb.fit(X, y, early_stopping_rounds=100, eval_set=eval_set, verbose=False)\n",
    "\n",
    "# resposta = modelo_xgb.predict(last_yearMonth)\n",
    "# print('resposta: ', resposta)"
   ]
  },
  {
   "cell_type": "code",
   "execution_count": null,
   "metadata": {},
   "outputs": [],
   "source": [
    "# print(\"MSE: \")\n",
    "# print(metrics.mean_squared_error(last_valor, resposta))\n",
    "# print(\"RMSE: \")\n",
    "# print(math.sqrt(metrics.mean_squared_error(last_valor, resposta)))\n",
    "# print(\"MAE: \")\n",
    "# print(metrics.mean_absolute_error([[last_valor]], [[int(resposta)]]))"
   ]
  }
 ],
 "metadata": {
  "kernelspec": {
   "display_name": "Python 3",
   "language": "python",
   "name": "python3"
  },
  "language_info": {
   "codemirror_mode": {
    "name": "ipython",
    "version": 3
   },
   "file_extension": ".py",
   "mimetype": "text/x-python",
   "name": "python",
   "nbconvert_exporter": "python",
   "pygments_lexer": "ipython3",
   "version": "3.6.5"
  }
 },
 "nbformat": 4,
 "nbformat_minor": 2
}
